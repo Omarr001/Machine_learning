{
 "cells": [
  {
   "cell_type": "markdown",
   "metadata": {
    "id": "IcHSTWeQIOdi"
   },
   "source": [
    "## **Lab 2 - Clustering Exercise**\n",
    "\n",
    "In this exercise, we will apply our knowledge of clustering on the following dataset:\n",
    "\n",
    "Dataset Link:\n",
    "https://www.kaggle.com/datasets/arjunbhasin2013/ccdata\n",
    "\n",
    "Clustering on this dataset will be done using KMeans, Hierarchal clustering and DBSCAN. Finding the optimal hypermaters for each and then choosing the best model among the three"
   ]
  },
  {
   "cell_type": "markdown",
   "metadata": {
    "id": "6_cs23ezKtyk"
   },
   "source": [
    "Start by Importing needed libraries"
   ]
  },
  {
   "cell_type": "code",
   "execution_count": 1,
   "metadata": {
    "id": "bY4Uj2sLFOAC"
   },
   "outputs": [],
   "source": [
    "import pandas as pd\n",
    "import numpy as np\n",
    "import matplotlib.pyplot as plt\n",
    "import seaborn as sns"
   ]
  },
  {
   "cell_type": "markdown",
   "metadata": {
    "id": "dt7Ztir7Kxw7"
   },
   "source": [
    "Reading the dataset into a DataFrame"
   ]
  },
  {
   "cell_type": "code",
   "execution_count": 2,
   "metadata": {
    "id": "cRlD59_eK16r"
   },
   "outputs": [],
   "source": [
    "df = pd.read_csv('CC GENERAL.csv')"
   ]
  },
  {
   "cell_type": "code",
   "execution_count": 3,
   "metadata": {
    "id": "OSfoccC2vMte"
   },
   "outputs": [
    {
     "data": {
      "text/html": [
       "<div>\n",
       "<style scoped>\n",
       "    .dataframe tbody tr th:only-of-type {\n",
       "        vertical-align: middle;\n",
       "    }\n",
       "\n",
       "    .dataframe tbody tr th {\n",
       "        vertical-align: top;\n",
       "    }\n",
       "\n",
       "    .dataframe thead th {\n",
       "        text-align: right;\n",
       "    }\n",
       "</style>\n",
       "<table border=\"1\" class=\"dataframe\">\n",
       "  <thead>\n",
       "    <tr style=\"text-align: right;\">\n",
       "      <th></th>\n",
       "      <th>CUST_ID</th>\n",
       "      <th>BALANCE</th>\n",
       "      <th>BALANCE_FREQUENCY</th>\n",
       "      <th>PURCHASES</th>\n",
       "      <th>ONEOFF_PURCHASES</th>\n",
       "      <th>INSTALLMENTS_PURCHASES</th>\n",
       "      <th>CASH_ADVANCE</th>\n",
       "      <th>PURCHASES_FREQUENCY</th>\n",
       "      <th>ONEOFF_PURCHASES_FREQUENCY</th>\n",
       "      <th>PURCHASES_INSTALLMENTS_FREQUENCY</th>\n",
       "      <th>CASH_ADVANCE_FREQUENCY</th>\n",
       "      <th>CASH_ADVANCE_TRX</th>\n",
       "      <th>PURCHASES_TRX</th>\n",
       "      <th>CREDIT_LIMIT</th>\n",
       "      <th>PAYMENTS</th>\n",
       "      <th>MINIMUM_PAYMENTS</th>\n",
       "      <th>PRC_FULL_PAYMENT</th>\n",
       "      <th>TENURE</th>\n",
       "    </tr>\n",
       "  </thead>\n",
       "  <tbody>\n",
       "    <tr>\n",
       "      <th>0</th>\n",
       "      <td>C10001</td>\n",
       "      <td>40.900749</td>\n",
       "      <td>0.818182</td>\n",
       "      <td>95.40</td>\n",
       "      <td>0.00</td>\n",
       "      <td>95.4</td>\n",
       "      <td>0.000000</td>\n",
       "      <td>0.166667</td>\n",
       "      <td>0.000000</td>\n",
       "      <td>0.083333</td>\n",
       "      <td>0.000000</td>\n",
       "      <td>0</td>\n",
       "      <td>2</td>\n",
       "      <td>1000.0</td>\n",
       "      <td>201.802084</td>\n",
       "      <td>139.509787</td>\n",
       "      <td>0.000000</td>\n",
       "      <td>12</td>\n",
       "    </tr>\n",
       "    <tr>\n",
       "      <th>1</th>\n",
       "      <td>C10002</td>\n",
       "      <td>3202.467416</td>\n",
       "      <td>0.909091</td>\n",
       "      <td>0.00</td>\n",
       "      <td>0.00</td>\n",
       "      <td>0.0</td>\n",
       "      <td>6442.945483</td>\n",
       "      <td>0.000000</td>\n",
       "      <td>0.000000</td>\n",
       "      <td>0.000000</td>\n",
       "      <td>0.250000</td>\n",
       "      <td>4</td>\n",
       "      <td>0</td>\n",
       "      <td>7000.0</td>\n",
       "      <td>4103.032597</td>\n",
       "      <td>1072.340217</td>\n",
       "      <td>0.222222</td>\n",
       "      <td>12</td>\n",
       "    </tr>\n",
       "    <tr>\n",
       "      <th>2</th>\n",
       "      <td>C10003</td>\n",
       "      <td>2495.148862</td>\n",
       "      <td>1.000000</td>\n",
       "      <td>773.17</td>\n",
       "      <td>773.17</td>\n",
       "      <td>0.0</td>\n",
       "      <td>0.000000</td>\n",
       "      <td>1.000000</td>\n",
       "      <td>1.000000</td>\n",
       "      <td>0.000000</td>\n",
       "      <td>0.000000</td>\n",
       "      <td>0</td>\n",
       "      <td>12</td>\n",
       "      <td>7500.0</td>\n",
       "      <td>622.066742</td>\n",
       "      <td>627.284787</td>\n",
       "      <td>0.000000</td>\n",
       "      <td>12</td>\n",
       "    </tr>\n",
       "    <tr>\n",
       "      <th>3</th>\n",
       "      <td>C10004</td>\n",
       "      <td>1666.670542</td>\n",
       "      <td>0.636364</td>\n",
       "      <td>1499.00</td>\n",
       "      <td>1499.00</td>\n",
       "      <td>0.0</td>\n",
       "      <td>205.788017</td>\n",
       "      <td>0.083333</td>\n",
       "      <td>0.083333</td>\n",
       "      <td>0.000000</td>\n",
       "      <td>0.083333</td>\n",
       "      <td>1</td>\n",
       "      <td>1</td>\n",
       "      <td>7500.0</td>\n",
       "      <td>0.000000</td>\n",
       "      <td>NaN</td>\n",
       "      <td>0.000000</td>\n",
       "      <td>12</td>\n",
       "    </tr>\n",
       "    <tr>\n",
       "      <th>4</th>\n",
       "      <td>C10005</td>\n",
       "      <td>817.714335</td>\n",
       "      <td>1.000000</td>\n",
       "      <td>16.00</td>\n",
       "      <td>16.00</td>\n",
       "      <td>0.0</td>\n",
       "      <td>0.000000</td>\n",
       "      <td>0.083333</td>\n",
       "      <td>0.083333</td>\n",
       "      <td>0.000000</td>\n",
       "      <td>0.000000</td>\n",
       "      <td>0</td>\n",
       "      <td>1</td>\n",
       "      <td>1200.0</td>\n",
       "      <td>678.334763</td>\n",
       "      <td>244.791237</td>\n",
       "      <td>0.000000</td>\n",
       "      <td>12</td>\n",
       "    </tr>\n",
       "  </tbody>\n",
       "</table>\n",
       "</div>"
      ],
      "text/plain": [
       "  CUST_ID      BALANCE  BALANCE_FREQUENCY  PURCHASES  ONEOFF_PURCHASES  \\\n",
       "0  C10001    40.900749           0.818182      95.40              0.00   \n",
       "1  C10002  3202.467416           0.909091       0.00              0.00   \n",
       "2  C10003  2495.148862           1.000000     773.17            773.17   \n",
       "3  C10004  1666.670542           0.636364    1499.00           1499.00   \n",
       "4  C10005   817.714335           1.000000      16.00             16.00   \n",
       "\n",
       "   INSTALLMENTS_PURCHASES  CASH_ADVANCE  PURCHASES_FREQUENCY  \\\n",
       "0                    95.4      0.000000             0.166667   \n",
       "1                     0.0   6442.945483             0.000000   \n",
       "2                     0.0      0.000000             1.000000   \n",
       "3                     0.0    205.788017             0.083333   \n",
       "4                     0.0      0.000000             0.083333   \n",
       "\n",
       "   ONEOFF_PURCHASES_FREQUENCY  PURCHASES_INSTALLMENTS_FREQUENCY  \\\n",
       "0                    0.000000                          0.083333   \n",
       "1                    0.000000                          0.000000   \n",
       "2                    1.000000                          0.000000   \n",
       "3                    0.083333                          0.000000   \n",
       "4                    0.083333                          0.000000   \n",
       "\n",
       "   CASH_ADVANCE_FREQUENCY  CASH_ADVANCE_TRX  PURCHASES_TRX  CREDIT_LIMIT  \\\n",
       "0                0.000000                 0              2        1000.0   \n",
       "1                0.250000                 4              0        7000.0   \n",
       "2                0.000000                 0             12        7500.0   \n",
       "3                0.083333                 1              1        7500.0   \n",
       "4                0.000000                 0              1        1200.0   \n",
       "\n",
       "      PAYMENTS  MINIMUM_PAYMENTS  PRC_FULL_PAYMENT  TENURE  \n",
       "0   201.802084        139.509787          0.000000      12  \n",
       "1  4103.032597       1072.340217          0.222222      12  \n",
       "2   622.066742        627.284787          0.000000      12  \n",
       "3     0.000000               NaN          0.000000      12  \n",
       "4   678.334763        244.791237          0.000000      12  "
      ]
     },
     "execution_count": 3,
     "metadata": {},
     "output_type": "execute_result"
    }
   ],
   "source": [
    "df.head()"
   ]
  },
  {
   "cell_type": "code",
   "execution_count": 4,
   "metadata": {
    "id": "oGwiSujIvM8e"
   },
   "outputs": [],
   "source": [
    "df = df.fillna(0)"
   ]
  },
  {
   "cell_type": "code",
   "execution_count": 5,
   "metadata": {
    "id": "WV6mQyACvNbO"
   },
   "outputs": [
    {
     "data": {
      "text/html": [
       "<div>\n",
       "<style scoped>\n",
       "    .dataframe tbody tr th:only-of-type {\n",
       "        vertical-align: middle;\n",
       "    }\n",
       "\n",
       "    .dataframe tbody tr th {\n",
       "        vertical-align: top;\n",
       "    }\n",
       "\n",
       "    .dataframe thead th {\n",
       "        text-align: right;\n",
       "    }\n",
       "</style>\n",
       "<table border=\"1\" class=\"dataframe\">\n",
       "  <thead>\n",
       "    <tr style=\"text-align: right;\">\n",
       "      <th></th>\n",
       "      <th>CUST_ID</th>\n",
       "      <th>BALANCE</th>\n",
       "      <th>BALANCE_FREQUENCY</th>\n",
       "      <th>PURCHASES</th>\n",
       "      <th>ONEOFF_PURCHASES</th>\n",
       "      <th>INSTALLMENTS_PURCHASES</th>\n",
       "      <th>CASH_ADVANCE</th>\n",
       "      <th>PURCHASES_FREQUENCY</th>\n",
       "      <th>ONEOFF_PURCHASES_FREQUENCY</th>\n",
       "      <th>PURCHASES_INSTALLMENTS_FREQUENCY</th>\n",
       "      <th>CASH_ADVANCE_FREQUENCY</th>\n",
       "      <th>CASH_ADVANCE_TRX</th>\n",
       "      <th>PURCHASES_TRX</th>\n",
       "      <th>CREDIT_LIMIT</th>\n",
       "      <th>PAYMENTS</th>\n",
       "      <th>MINIMUM_PAYMENTS</th>\n",
       "      <th>PRC_FULL_PAYMENT</th>\n",
       "      <th>TENURE</th>\n",
       "    </tr>\n",
       "  </thead>\n",
       "  <tbody>\n",
       "    <tr>\n",
       "      <th>0</th>\n",
       "      <td>C10001</td>\n",
       "      <td>40.900749</td>\n",
       "      <td>0.818182</td>\n",
       "      <td>95.40</td>\n",
       "      <td>0.00</td>\n",
       "      <td>95.4</td>\n",
       "      <td>0.000000</td>\n",
       "      <td>0.166667</td>\n",
       "      <td>0.000000</td>\n",
       "      <td>0.083333</td>\n",
       "      <td>0.000000</td>\n",
       "      <td>0</td>\n",
       "      <td>2</td>\n",
       "      <td>1000.0</td>\n",
       "      <td>201.802084</td>\n",
       "      <td>139.509787</td>\n",
       "      <td>0.000000</td>\n",
       "      <td>12</td>\n",
       "    </tr>\n",
       "    <tr>\n",
       "      <th>1</th>\n",
       "      <td>C10002</td>\n",
       "      <td>3202.467416</td>\n",
       "      <td>0.909091</td>\n",
       "      <td>0.00</td>\n",
       "      <td>0.00</td>\n",
       "      <td>0.0</td>\n",
       "      <td>6442.945483</td>\n",
       "      <td>0.000000</td>\n",
       "      <td>0.000000</td>\n",
       "      <td>0.000000</td>\n",
       "      <td>0.250000</td>\n",
       "      <td>4</td>\n",
       "      <td>0</td>\n",
       "      <td>7000.0</td>\n",
       "      <td>4103.032597</td>\n",
       "      <td>1072.340217</td>\n",
       "      <td>0.222222</td>\n",
       "      <td>12</td>\n",
       "    </tr>\n",
       "    <tr>\n",
       "      <th>2</th>\n",
       "      <td>C10003</td>\n",
       "      <td>2495.148862</td>\n",
       "      <td>1.000000</td>\n",
       "      <td>773.17</td>\n",
       "      <td>773.17</td>\n",
       "      <td>0.0</td>\n",
       "      <td>0.000000</td>\n",
       "      <td>1.000000</td>\n",
       "      <td>1.000000</td>\n",
       "      <td>0.000000</td>\n",
       "      <td>0.000000</td>\n",
       "      <td>0</td>\n",
       "      <td>12</td>\n",
       "      <td>7500.0</td>\n",
       "      <td>622.066742</td>\n",
       "      <td>627.284787</td>\n",
       "      <td>0.000000</td>\n",
       "      <td>12</td>\n",
       "    </tr>\n",
       "    <tr>\n",
       "      <th>3</th>\n",
       "      <td>C10004</td>\n",
       "      <td>1666.670542</td>\n",
       "      <td>0.636364</td>\n",
       "      <td>1499.00</td>\n",
       "      <td>1499.00</td>\n",
       "      <td>0.0</td>\n",
       "      <td>205.788017</td>\n",
       "      <td>0.083333</td>\n",
       "      <td>0.083333</td>\n",
       "      <td>0.000000</td>\n",
       "      <td>0.083333</td>\n",
       "      <td>1</td>\n",
       "      <td>1</td>\n",
       "      <td>7500.0</td>\n",
       "      <td>0.000000</td>\n",
       "      <td>0.000000</td>\n",
       "      <td>0.000000</td>\n",
       "      <td>12</td>\n",
       "    </tr>\n",
       "    <tr>\n",
       "      <th>4</th>\n",
       "      <td>C10005</td>\n",
       "      <td>817.714335</td>\n",
       "      <td>1.000000</td>\n",
       "      <td>16.00</td>\n",
       "      <td>16.00</td>\n",
       "      <td>0.0</td>\n",
       "      <td>0.000000</td>\n",
       "      <td>0.083333</td>\n",
       "      <td>0.083333</td>\n",
       "      <td>0.000000</td>\n",
       "      <td>0.000000</td>\n",
       "      <td>0</td>\n",
       "      <td>1</td>\n",
       "      <td>1200.0</td>\n",
       "      <td>678.334763</td>\n",
       "      <td>244.791237</td>\n",
       "      <td>0.000000</td>\n",
       "      <td>12</td>\n",
       "    </tr>\n",
       "  </tbody>\n",
       "</table>\n",
       "</div>"
      ],
      "text/plain": [
       "  CUST_ID      BALANCE  BALANCE_FREQUENCY  PURCHASES  ONEOFF_PURCHASES  \\\n",
       "0  C10001    40.900749           0.818182      95.40              0.00   \n",
       "1  C10002  3202.467416           0.909091       0.00              0.00   \n",
       "2  C10003  2495.148862           1.000000     773.17            773.17   \n",
       "3  C10004  1666.670542           0.636364    1499.00           1499.00   \n",
       "4  C10005   817.714335           1.000000      16.00             16.00   \n",
       "\n",
       "   INSTALLMENTS_PURCHASES  CASH_ADVANCE  PURCHASES_FREQUENCY  \\\n",
       "0                    95.4      0.000000             0.166667   \n",
       "1                     0.0   6442.945483             0.000000   \n",
       "2                     0.0      0.000000             1.000000   \n",
       "3                     0.0    205.788017             0.083333   \n",
       "4                     0.0      0.000000             0.083333   \n",
       "\n",
       "   ONEOFF_PURCHASES_FREQUENCY  PURCHASES_INSTALLMENTS_FREQUENCY  \\\n",
       "0                    0.000000                          0.083333   \n",
       "1                    0.000000                          0.000000   \n",
       "2                    1.000000                          0.000000   \n",
       "3                    0.083333                          0.000000   \n",
       "4                    0.083333                          0.000000   \n",
       "\n",
       "   CASH_ADVANCE_FREQUENCY  CASH_ADVANCE_TRX  PURCHASES_TRX  CREDIT_LIMIT  \\\n",
       "0                0.000000                 0              2        1000.0   \n",
       "1                0.250000                 4              0        7000.0   \n",
       "2                0.000000                 0             12        7500.0   \n",
       "3                0.083333                 1              1        7500.0   \n",
       "4                0.000000                 0              1        1200.0   \n",
       "\n",
       "      PAYMENTS  MINIMUM_PAYMENTS  PRC_FULL_PAYMENT  TENURE  \n",
       "0   201.802084        139.509787          0.000000      12  \n",
       "1  4103.032597       1072.340217          0.222222      12  \n",
       "2   622.066742        627.284787          0.000000      12  \n",
       "3     0.000000          0.000000          0.000000      12  \n",
       "4   678.334763        244.791237          0.000000      12  "
      ]
     },
     "execution_count": 5,
     "metadata": {},
     "output_type": "execute_result"
    }
   ],
   "source": [
    "df.head()"
   ]
  },
  {
   "cell_type": "code",
   "execution_count": 6,
   "metadata": {
    "id": "uBCQXl6Av3fG"
   },
   "outputs": [],
   "source": [
    "df = pd.get_dummies(df)"
   ]
  },
  {
   "cell_type": "code",
   "execution_count": 7,
   "metadata": {
    "id": "jVslYPciv96F"
   },
   "outputs": [],
   "source": [
    "from sklearn.preprocessing import StandardScaler\n",
    "scaler = StandardScaler()\n",
    "scaled_df = scaler.fit_transform(df)"
   ]
  },
  {
   "cell_type": "markdown",
   "metadata": {},
   "source": [
    "## K-Means"
   ]
  },
  {
   "cell_type": "markdown",
   "metadata": {
    "id": "JSPz4WUgK2Xr"
   },
   "source": [
    "Find the optimal Kmeans model"
   ]
  },
  {
   "cell_type": "code",
   "execution_count": 8,
   "metadata": {
    "id": "lq2tpMbIK8OS"
   },
   "outputs": [],
   "source": [
    "from sklearn.cluster import KMeans\n",
    "\n",
    "model = KMeans(n_clusters=2)"
   ]
  },
  {
   "cell_type": "code",
   "execution_count": 9,
   "metadata": {},
   "outputs": [],
   "source": [
    "from sklearn.cluster import AgglomerativeClustering\n",
    "from sklearn.metrics import silhouette_score"
   ]
  },
  {
   "cell_type": "markdown",
   "metadata": {
    "id": "gkHH0oQDw1wj"
   },
   "source": [
    "Choose the optimal K and calculate the silhouette score for the best model."
   ]
  },
  {
   "cell_type": "code",
   "execution_count": 26,
   "metadata": {
    "id": "W_Dgn3ukwnw8"
   },
   "outputs": [],
   "source": [
    "ssd = []\n",
    "s=[]\n",
    "best=-1\n",
    "best_n=1\n",
    "\n",
    "for k in range(2,10):\n",
    "    \n",
    "    model = KMeans(n_clusters=k)\n",
    "    \n",
    "    \n",
    "    model.fit(scaled_df)\n",
    "    silhouette=silhouette_score(scaled_df,model.labels_)#,metric='euclidean')\n",
    "    s.append(silhouette)\n",
    "    if silhouette >= best:\n",
    "        best_n=k\n",
    "        best =silhouette \n",
    "        #best_affinity=affinity\n",
    "        #best_linkage=linkage\n",
    "    \n",
    "    #Sum of squared distances of samples to their closest cluster center.\n",
    "    ssd.append(model.inertia_)"
   ]
  },
  {
   "cell_type": "code",
   "execution_count": 27,
   "metadata": {},
   "outputs": [
    {
     "data": {
      "text/plain": [
       "[<matplotlib.lines.Line2D at 0x7fc6ec56f490>]"
      ]
     },
     "execution_count": 27,
     "metadata": {},
     "output_type": "execute_result"
    },
    {
     "data": {
      "image/png": "[encoded data removed]",
      "text/plain": [
       "<Figure size 432x288 with 1 Axes>"
      ]
     },
     "metadata": {
      "needs_background": "light"
     },
     "output_type": "display_data"
    },
    {
     "data": {
      "image/png": "[encoded data removed]",
      "text/plain": [
       "<Figure size 432x288 with 1 Axes>"
      ]
     },
     "metadata": {
      "needs_background": "light"
     },
     "output_type": "display_data"
    }
   ],
   "source": [
    "plt.plot(range(2,10),ssd,'o--')\n",
    "plt.xlabel(\"K Value\")\n",
    "plt.ylabel(\" Sum of Squared Distances\")\n",
    "plt.figure()\n",
    "plt.plot(range(2,10),s,'o--')"
   ]
  },
  {
   "cell_type": "code",
   "execution_count": 28,
   "metadata": {},
   "outputs": [
    {
     "name": "stdout",
     "output_type": "stream",
     "text": [
      "Best score:  0.0002990933970752963\n",
      "Best k:  2\n"
     ]
    }
   ],
   "source": [
    "print(\"Best score: \", best)\n",
    "print(\"Best k: \", best_n)"
   ]
  },
  {
   "cell_type": "markdown",
   "metadata": {},
   "source": [
    "## Agglomerative Clustering"
   ]
  },
  {
   "cell_type": "markdown",
   "metadata": {
    "id": "_lMAe85vK8wb"
   },
   "source": [
    "Find the optimal agglomerative clustering model."
   ]
  },
  {
   "cell_type": "code",
   "execution_count": 14,
   "metadata": {
    "id": "Va9X5U1ULAqC"
   },
   "outputs": [
    {
     "name": "stdout",
     "output_type": "stream",
     "text": [
      "0.03027293328292119\n"
     ]
    }
   ],
   "source": [
    "model = AgglomerativeClustering(n_clusters=2, affinity=\"euclidean\", linkage = \"average\")\n",
    "cluster_labels = model.fit_predict(scaled_df)\n",
    "score = silhouette_score(scaled_df, cluster_labels)\n",
    "print(score)"
   ]
  },
  {
   "cell_type": "code",
   "execution_count": 23,
   "metadata": {},
   "outputs": [
    {
     "name": "stdout",
     "output_type": "stream",
     "text": [
      "0.026827062033139136\n"
     ]
    }
   ],
   "source": [
    "model = AgglomerativeClustering(n_clusters=2, affinity=\"manhattan\", linkage = \"average\")\n",
    "cluster_labels = model.fit_predict(scaled_df)\n",
    "score = silhouette_score(scaled_df, cluster_labels)\n",
    "print(score)"
   ]
  },
  {
   "cell_type": "markdown",
   "metadata": {
    "id": "2Kgd638SzVnO"
   },
   "source": [
    "Choose the optimal K and calculate the silhouette score for the best model."
   ]
  },
  {
   "cell_type": "raw",
   "metadata": {},
   "source": [
    "Optimal k was 2 from the k means plots. The agglomerative affinity best was euclidean."
   ]
  },
  {
   "cell_type": "markdown",
   "metadata": {},
   "source": [
    "## DBSCAN"
   ]
  },
  {
   "cell_type": "markdown",
   "metadata": {
    "id": "wXwVWhKZLBRq"
   },
   "source": [
    "Find the optimal DBSCAN model."
   ]
  },
  {
   "cell_type": "code",
   "execution_count": 13,
   "metadata": {
    "id": "AsIFmshgLOZb"
   },
   "outputs": [],
   "source": [
    "from sklearn.cluster import DBSCAN"
   ]
  },
  {
   "cell_type": "markdown",
   "metadata": {
    "id": "ik0Kax6TzylF"
   },
   "source": [
    "Find the parameters that optimize the performance of your model and calculate the silhouette score."
   ]
  },
  {
   "cell_type": "code",
   "execution_count": null,
   "metadata": {
    "id": "dblysF8Q0FfT"
   },
   "outputs": [],
   "source": [
    "dbscan = DBSCAN(eps=2)\n",
    "cluster_labels = dbscan.fit_predict(scaled_df)"
   ]
  },
  {
   "cell_type": "code",
   "execution_count": null,
   "metadata": {
    "collapsed": true,
    "jupyter": {
     "outputs_hidden": true
    },
    "tags": []
   },
   "outputs": [
    {
     "name": "stdout",
     "output_type": "stream",
     "text": [
      "eps: 200.00, min_samples: 5, Clusters: 1, Noise: 0.00%\n",
      "eps: 200.00, min_samples: 7, Clusters: 1, Noise: 0.00%\n",
      "eps: 200.00, min_samples: 9, Clusters: 1, Noise: 0.00%\n",
      "eps: 200.00, min_samples: 2, Clusters: 1, Noise: 0.00%\n",
      "eps: 200.00, min_samples: 36, Clusters: 1, Noise: 0.00%\n",
      "eps: 207.89, min_samples: 5, Clusters: 1, Noise: 0.00%\n",
      "eps: 207.89, min_samples: 7, Clusters: 1, Noise: 0.00%\n",
      "eps: 207.89, min_samples: 9, Clusters: 1, Noise: 0.00%\n",
      "eps: 207.89, min_samples: 2, Clusters: 1, Noise: 0.00%\n",
      "eps: 207.89, min_samples: 36, Clusters: 1, Noise: 0.00%\n",
      "eps: 215.79, min_samples: 5, Clusters: 1, Noise: 0.00%\n",
      "eps: 215.79, min_samples: 7, Clusters: 1, Noise: 0.00%\n",
      "eps: 215.79, min_samples: 9, Clusters: 1, Noise: 0.00%\n",
      "eps: 215.79, min_samples: 2, Clusters: 1, Noise: 0.00%\n",
      "eps: 215.79, min_samples: 36, Clusters: 1, Noise: 0.00%\n",
      "eps: 223.68, min_samples: 5, Clusters: 1, Noise: 0.00%\n",
      "eps: 223.68, min_samples: 7, Clusters: 1, Noise: 0.00%\n",
      "eps: 223.68, min_samples: 9, Clusters: 1, Noise: 0.00%\n",
      "eps: 223.68, min_samples: 2, Clusters: 1, Noise: 0.00%\n",
      "eps: 223.68, min_samples: 36, Clusters: 1, Noise: 0.00%\n",
      "eps: 231.58, min_samples: 5, Clusters: 1, Noise: 0.00%\n",
      "eps: 231.58, min_samples: 7, Clusters: 1, Noise: 0.00%\n",
      "eps: 231.58, min_samples: 9, Clusters: 1, Noise: 0.00%\n",
      "eps: 231.58, min_samples: 2, Clusters: 1, Noise: 0.00%\n",
      "eps: 231.58, min_samples: 36, Clusters: 1, Noise: 0.00%\n",
      "eps: 239.47, min_samples: 5, Clusters: 1, Noise: 0.00%\n",
      "eps: 239.47, min_samples: 7, Clusters: 1, Noise: 0.00%\n",
      "eps: 239.47, min_samples: 9, Clusters: 1, Noise: 0.00%\n",
      "eps: 239.47, min_samples: 2, Clusters: 1, Noise: 0.00%\n",
      "eps: 239.47, min_samples: 36, Clusters: 1, Noise: 0.00%\n",
      "eps: 247.37, min_samples: 5, Clusters: 1, Noise: 0.00%\n",
      "eps: 247.37, min_samples: 7, Clusters: 1, Noise: 0.00%\n",
      "eps: 247.37, min_samples: 9, Clusters: 1, Noise: 0.00%\n",
      "eps: 247.37, min_samples: 2, Clusters: 1, Noise: 0.00%\n",
      "eps: 247.37, min_samples: 36, Clusters: 1, Noise: 0.00%\n",
      "eps: 255.26, min_samples: 5, Clusters: 1, Noise: 0.00%\n",
      "eps: 255.26, min_samples: 7, Clusters: 1, Noise: 0.00%\n",
      "eps: 255.26, min_samples: 9, Clusters: 1, Noise: 0.00%\n",
      "eps: 255.26, min_samples: 2, Clusters: 1, Noise: 0.00%\n",
      "eps: 255.26, min_samples: 36, Clusters: 1, Noise: 0.00%\n",
      "eps: 263.16, min_samples: 5, Clusters: 1, Noise: 0.00%\n",
      "eps: 263.16, min_samples: 7, Clusters: 1, Noise: 0.00%\n",
      "eps: 263.16, min_samples: 9, Clusters: 1, Noise: 0.00%\n",
      "eps: 263.16, min_samples: 2, Clusters: 1, Noise: 0.00%\n",
      "eps: 263.16, min_samples: 36, Clusters: 1, Noise: 0.00%\n",
      "eps: 271.05, min_samples: 5, Clusters: 1, Noise: 0.00%\n",
      "eps: 271.05, min_samples: 7, Clusters: 1, Noise: 0.00%\n",
      "eps: 271.05, min_samples: 9, Clusters: 1, Noise: 0.00%\n",
      "eps: 271.05, min_samples: 2, Clusters: 1, Noise: 0.00%\n",
      "eps: 271.05, min_samples: 36, Clusters: 1, Noise: 0.00%\n",
      "eps: 278.95, min_samples: 5, Clusters: 1, Noise: 0.00%\n",
      "eps: 278.95, min_samples: 7, Clusters: 1, Noise: 0.00%\n",
      "eps: 278.95, min_samples: 9, Clusters: 1, Noise: 0.00%\n",
      "eps: 278.95, min_samples: 2, Clusters: 1, Noise: 0.00%\n",
      "eps: 278.95, min_samples: 36, Clusters: 1, Noise: 0.00%\n",
      "eps: 286.84, min_samples: 5, Clusters: 1, Noise: 0.00%\n",
      "eps: 286.84, min_samples: 7, Clusters: 1, Noise: 0.00%\n",
      "eps: 286.84, min_samples: 9, Clusters: 1, Noise: 0.00%\n",
      "eps: 286.84, min_samples: 2, Clusters: 1, Noise: 0.00%\n",
      "eps: 286.84, min_samples: 36, Clusters: 1, Noise: 0.00%\n",
      "eps: 294.74, min_samples: 5, Clusters: 1, Noise: 0.00%\n",
      "eps: 294.74, min_samples: 7, Clusters: 1, Noise: 0.00%\n",
      "eps: 294.74, min_samples: 9, Clusters: 1, Noise: 0.00%\n",
      "eps: 294.74, min_samples: 2, Clusters: 1, Noise: 0.00%\n",
      "eps: 294.74, min_samples: 36, Clusters: 1, Noise: 0.00%\n",
      "eps: 302.63, min_samples: 5, Clusters: 1, Noise: 0.00%\n",
      "eps: 302.63, min_samples: 7, Clusters: 1, Noise: 0.00%\n",
      "eps: 302.63, min_samples: 9, Clusters: 1, Noise: 0.00%\n",
      "eps: 302.63, min_samples: 2, Clusters: 1, Noise: 0.00%\n",
      "eps: 302.63, min_samples: 36, Clusters: 1, Noise: 0.00%\n",
      "eps: 310.53, min_samples: 5, Clusters: 1, Noise: 0.00%\n",
      "eps: 310.53, min_samples: 7, Clusters: 1, Noise: 0.00%\n",
      "eps: 310.53, min_samples: 9, Clusters: 1, Noise: 0.00%\n",
      "eps: 310.53, min_samples: 2, Clusters: 1, Noise: 0.00%\n",
      "eps: 310.53, min_samples: 36, Clusters: 1, Noise: 0.00%\n",
      "eps: 318.42, min_samples: 5, Clusters: 1, Noise: 0.00%\n",
      "eps: 318.42, min_samples: 7, Clusters: 1, Noise: 0.00%\n",
      "eps: 318.42, min_samples: 9, Clusters: 1, Noise: 0.00%\n",
      "eps: 318.42, min_samples: 2, Clusters: 1, Noise: 0.00%\n",
      "eps: 318.42, min_samples: 36, Clusters: 1, Noise: 0.00%\n",
      "eps: 326.32, min_samples: 5, Clusters: 1, Noise: 0.00%\n",
      "eps: 326.32, min_samples: 7, Clusters: 1, Noise: 0.00%\n",
      "eps: 326.32, min_samples: 9, Clusters: 1, Noise: 0.00%\n",
      "eps: 326.32, min_samples: 2, Clusters: 1, Noise: 0.00%\n",
      "eps: 326.32, min_samples: 36, Clusters: 1, Noise: 0.00%\n",
      "eps: 334.21, min_samples: 5, Clusters: 1, Noise: 0.00%\n",
      "eps: 334.21, min_samples: 7, Clusters: 1, Noise: 0.00%\n",
      "eps: 334.21, min_samples: 9, Clusters: 1, Noise: 0.00%\n",
      "eps: 334.21, min_samples: 2, Clusters: 1, Noise: 0.00%\n",
      "eps: 334.21, min_samples: 36, Clusters: 1, Noise: 0.00%\n",
      "eps: 342.11, min_samples: 5, Clusters: 1, Noise: 0.00%\n",
      "eps: 342.11, min_samples: 7, Clusters: 1, Noise: 0.00%\n",
      "eps: 342.11, min_samples: 9, Clusters: 1, Noise: 0.00%\n",
      "eps: 342.11, min_samples: 2, Clusters: 1, Noise: 0.00%\n",
      "eps: 342.11, min_samples: 36, Clusters: 1, Noise: 0.00%\n",
      "eps: 350.00, min_samples: 5, Clusters: 1, Noise: 0.00%\n",
      "eps: 350.00, min_samples: 7, Clusters: 1, Noise: 0.00%\n",
      "eps: 350.00, min_samples: 9, Clusters: 1, Noise: 0.00%\n",
      "eps: 350.00, min_samples: 2, Clusters: 1, Noise: 0.00%\n",
      "eps: 350.00, min_samples: 36, Clusters: 1, Noise: 0.00%\n",
      "Best eps: None with best min_samples: None and silhouette score: -1\n"
     ]
    }
   ],
   "source": [
    "# Define a range for eps and min_samples\n",
    "eps_range = np.linspace(200, 350, 20)  # Increase upper bound for better clustering\n",
    "num_features = 36  # Given feature size\n",
    "min_samples_range = [5, 7 , 9 , 2, 36]  # Adjusted min_samples to be around half of feature size\n",
    "\n",
    "best_score = -1\n",
    "best_eps = None\n",
    "best_min_samples = None\n",
    "\n",
    "# Loop through different values of eps and min_samples\n",
    "for eps in eps_range:\n",
    "    for min_samples in min_samples_range:\n",
    "        dbscan = DBSCAN(eps=eps, min_samples=min_samples, metric='euclidean')\n",
    "        labels = dbscan.fit_predict(scaled_df)\n",
    "\n",
    "        noise_ratio = (labels == -1).sum() / len(labels)  # Calculate noise percentage\n",
    "        num_clusters = len(set(labels) - {-1})  # Exclude noise label (-1)\n",
    "\n",
    "        print(f\"eps: {eps:.2f}, min_samples: {min_samples}, Clusters: {num_clusters}, Noise: {noise_ratio:.2%}\")\n",
    "\n",
    "        # Only evaluate models with more than 1 cluster\n",
    "        if num_clusters > 1:\n",
    "            score = silhouette_score(scaled_df, labels)\n",
    "            print(f\"Silhouette Score: {score:.4f}\")\n",
    "            if score > best_score:\n",
    "                best_score = score\n",
    "                best_eps = eps\n",
    "                best_min_samples = min_samples\n",
    "\n",
    "print(f'Best eps: {best_eps} with best min_samples: {best_min_samples} and silhouette score: {best_score}')"
   ]
  },
  {
   "cell_type": "code",
   "execution_count": 22,
   "metadata": {
    "tags": []
   },
   "outputs": [
    {
     "name": "stdout",
     "output_type": "stream",
     "text": [
      "eps: 133.00, min_samples: 7, Clusters: 0, Noise: 100.00%\n",
      "eps: 133.00, min_samples: 9, Clusters: 0, Noise: 100.00%\n",
      "eps: 134.89, min_samples: 7, Clusters: 1, Noise: 0.00%\n",
      "eps: 134.89, min_samples: 9, Clusters: 1, Noise: 0.00%\n",
      "eps: 136.78, min_samples: 7, Clusters: 1, Noise: 0.00%\n",
      "eps: 136.78, min_samples: 9, Clusters: 1, Noise: 0.00%\n",
      "eps: 138.67, min_samples: 7, Clusters: 1, Noise: 0.00%\n",
      "eps: 138.67, min_samples: 9, Clusters: 1, Noise: 0.00%\n",
      "eps: 140.56, min_samples: 7, Clusters: 1, Noise: 0.00%\n",
      "eps: 140.56, min_samples: 9, Clusters: 1, Noise: 0.00%\n",
      "eps: 142.44, min_samples: 7, Clusters: 1, Noise: 0.00%\n",
      "eps: 142.44, min_samples: 9, Clusters: 1, Noise: 0.00%\n",
      "eps: 144.33, min_samples: 7, Clusters: 1, Noise: 0.00%\n",
      "eps: 144.33, min_samples: 9, Clusters: 1, Noise: 0.00%\n",
      "eps: 146.22, min_samples: 7, Clusters: 1, Noise: 0.00%\n",
      "eps: 146.22, min_samples: 9, Clusters: 1, Noise: 0.00%\n",
      "eps: 148.11, min_samples: 7, Clusters: 1, Noise: 0.00%\n",
      "eps: 148.11, min_samples: 9, Clusters: 1, Noise: 0.00%\n",
      "eps: 150.00, min_samples: 7, Clusters: 1, Noise: 0.00%\n",
      "eps: 150.00, min_samples: 9, Clusters: 1, Noise: 0.00%\n",
      "Best eps: None with best min_samples: None and silhouette score: -1\n"
     ]
    }
   ],
   "source": [
    "# Define a range for eps and min_samples\n",
    "eps_range = np.linspace(133, 150, 10)  # Increase upper bound for better clustering\n",
    "num_features = 36  # Given feature size\n",
    "min_samples_range = [7 , 9]  # Adjusted min_samples to be around half of feature size\n",
    "\n",
    "best_score = -1\n",
    "best_eps = None\n",
    "best_min_samples = None\n",
    "\n",
    "# Loop through different values of eps and min_samples\n",
    "for eps in eps_range:\n",
    "    for min_samples in min_samples_range:\n",
    "        dbscan = DBSCAN(eps=eps, min_samples=min_samples, metric='euclidean')\n",
    "        labels = dbscan.fit_predict(scaled_df)\n",
    "\n",
    "        noise_ratio = (labels == -1).sum() / len(labels)  # Calculate noise percentage\n",
    "        num_clusters = len(set(labels) - {-1})  # Exclude noise label (-1)\n",
    "\n",
    "        print(f\"eps: {eps:.2f}, min_samples: {min_samples}, Clusters: {num_clusters}, Noise: {noise_ratio:.2%}\")\n",
    "\n",
    "        # Only evaluate models with more than 1 cluster\n",
    "        if num_clusters > 1:\n",
    "            score = silhouette_score(scaled_df, labels)\n",
    "            print(f\"Silhouette Score: {score:.4f}\")\n",
    "            if score > best_score:\n",
    "                best_score = score\n",
    "                best_eps = eps\n",
    "                best_min_samples = min_samples\n",
    "\n",
    "print(f'Best eps: {best_eps} with best min_samples: {best_min_samples} and silhouette score: {best_score}')"
   ]
  },
  {
   "cell_type": "markdown",
   "metadata": {},
   "source": [
    "## Result Interpretation and Discussion"
   ]
  },
  {
   "cell_type": "markdown",
   "metadata": {
    "id": "LVpmCzQiLieK"
   },
   "source": [
    "Which model was chosen? Why was it chosen and based on what?"
   ]
  },
  {
   "cell_type": "code",
   "execution_count": null,
   "metadata": {},
   "outputs": [],
   "source": [
    "# 2 trials of agglomerative clustering were made as it takes too much time it gave the best ...\n",
    "# silhouette of 0.03027293328292119 with parameters (euclidean, average, n_clusters = 2)\n",
    "# K-means suggested that 2 clusters is the best division however the silhouette score was ...\n",
    "# too small ~ 0.003 which makes it a bad clustering choice\n",
    "# DBScan was not able to cluster the data into more than 1 cluster.\n",
    "# Best algorithm was agglomerative"
   ]
  }
 ],
 "metadata": {
  "colab": {
   "provenance": []
  },
  "kernelspec": {
   "display_name": "Python 3 (ipykernel)",
   "language": "python",
   "name": "python3"
  },
  "language_info": {
   "codemirror_mode": {
    "name": "ipython",
    "version": 3
   },
   "file_extension": ".py",
   "mimetype": "text/x-python",
   "name": "python",
   "nbconvert_exporter": "python",
   "pygments_lexer": "ipython3",
   "version": "3.9.7"
  }
 },
 "nbformat": 4,
 "nbformat_minor": 4
}
